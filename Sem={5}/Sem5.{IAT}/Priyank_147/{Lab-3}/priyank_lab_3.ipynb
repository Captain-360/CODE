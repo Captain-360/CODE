{
 "cells": [
  {
   "cell_type": "code",
   "execution_count": 1,
   "id": "f46471fc",
   "metadata": {},
   "outputs": [],
   "source": [
    "import pandas as pd"
   ]
  },
  {
   "cell_type": "code",
   "execution_count": 3,
   "id": "af0a8c2a",
   "metadata": {},
   "outputs": [
    {
     "data": {
      "text/plain": [
       "0     2.2\n",
       "1     9.8\n",
       "2    54.0\n",
       "3    65.0\n",
       "4    87.0\n",
       "dtype: float64"
      ]
     },
     "execution_count": 3,
     "metadata": {},
     "output_type": "execute_result"
    }
   ],
   "source": [
    "## lab-3 p1\n",
    "list = [2.2,9.8,54,65,87]\n",
    "p=pd.Series(list)\n",
    "p"
   ]
  },
  {
   "cell_type": "code",
   "execution_count": 12,
   "id": "a95b2a89",
   "metadata": {},
   "outputs": [
    {
     "data": {
      "text/plain": [
       "54.0"
      ]
     },
     "execution_count": 12,
     "metadata": {},
     "output_type": "execute_result"
    }
   ],
   "source": [
    "## lab-3 p2\n",
    "p[2]"
   ]
  },
  {
   "cell_type": "code",
   "execution_count": 15,
   "id": "dd225e09",
   "metadata": {},
   "outputs": [
    {
     "name": "stdout",
     "output_type": "stream",
     "text": [
      "66.0\n",
      "7.6000000000000005\n",
      "1164.2400000000002\n",
      "1.2037037037037037\n",
      "0      6.6\n",
      "1     29.4\n",
      "2    162.0\n",
      "3    195.0\n",
      "4    261.0\n",
      "dtype: float64\n"
     ]
    }
   ],
   "source": [
    "## lab-3 p3\n",
    "add=p[0]+p[1]+p[2]\n",
    "print(add)\n",
    "sub=p[1]-p[0]\n",
    "print(sub)\n",
    "mul=p[0]*p[1]*p[2]\n",
    "print(mul)\n",
    "div=p[3]/p[2]\n",
    "print(div)\n",
    "\n",
    "print(p*3)"
   ]
  },
  {
   "cell_type": "code",
   "execution_count": 16,
   "id": "d6fddeae",
   "metadata": {},
   "outputs": [
    {
     "name": "stdout",
     "output_type": "stream",
     "text": [
      "cus1    1000\n",
      "cus2    2000\n",
      "cus3    3000\n",
      "dtype: int64\n"
     ]
    }
   ],
   "source": [
    "## lab-3 p5\n",
    "s1=pd.Series([1000,2000,3000],index=['cus1','cus2','cus3'])\n",
    "print(s1)"
   ]
  },
  {
   "cell_type": "code",
   "execution_count": 18,
   "id": "a947a689",
   "metadata": {},
   "outputs": [
    {
     "name": "stdout",
     "output_type": "stream",
     "text": [
      "cus1    1000.0\n",
      "cus2    2000.0\n",
      "cus3    3000.0\n",
      "dtype: float64\n"
     ]
    }
   ],
   "source": [
    "## lab-3 p6\n",
    "s2=pd.Series([1000,2000,3000],index=['cus1','cus2','cus3'],dtype=float)\n",
    "print(s2)"
   ]
  },
  {
   "cell_type": "code",
   "execution_count": 20,
   "id": "c12bdb69",
   "metadata": {},
   "outputs": [
    {
     "name": "stdout",
     "output_type": "stream",
     "text": [
      "1000.0\n",
      "2000.0\n",
      "3000.0\n"
     ]
    }
   ],
   "source": [
    "print(s2.loc[\"cus1\"])\n",
    "print(s2.loc[\"cus2\"])\n",
    "print(s2.loc[\"cus3\"])"
   ]
  },
  {
   "cell_type": "code",
   "execution_count": 22,
   "id": "450252aa",
   "metadata": {},
   "outputs": [
    {
     "data": {
      "text/plain": [
       "v.kholi     30\n",
       "r.sharma    50\n",
       "k.gayle     20\n",
       "k.polard    60\n",
       "dtype: int64"
      ]
     },
     "execution_count": 22,
     "metadata": {},
     "output_type": "execute_result"
    }
   ],
   "source": [
    "run=[30,50,20,60]\n",
    "player=[\"v.kholi\",\"r.sharma\",\"k.gayle\",\"k.polard\"]\n",
    "s3 = pd.Series(run,player);\n",
    "s3"
   ]
  },
  {
   "cell_type": "code",
   "execution_count": 25,
   "id": "75a175a3",
   "metadata": {},
   "outputs": [
    {
     "data": {
      "text/plain": [
       "2025-06-16     22\n",
       "2025-06-15     65\n",
       "2025-06-14    789\n",
       "2025-06-13     46\n",
       "2025-06-12     54\n",
       "dtype: int64"
      ]
     },
     "execution_count": 25,
     "metadata": {},
     "output_type": "execute_result"
    }
   ],
   "source": [
    "import pandas as pd\n",
    "date =  pd.to_datetime(\"16 jun 2025\")\n",
    "x = date + pd.to_timedelta([0,1,2,3,4],unit=\"D\")\n",
    "z1 = pd.Series([22,65,789,46,54],index=x)\n",
    "z1\n",
    "\n",
    "date =  pd.to_datetime(\"16 jun 2025\")\n",
    "x = date -pd.to_timedelta([0,1,2,3,4],unit=\"D\")\n",
    "z2= pd.Series([22,65,789,46,54],index=x)\n",
    "z2"
   ]
  },
  {
   "cell_type": "code",
   "execution_count": null,
   "id": "2d6a8fa4",
   "metadata": {},
   "outputs": [],
   "source": []
  }
 ],
 "metadata": {
  "kernelspec": {
   "display_name": "Python 3 (ipykernel)",
   "language": "python",
   "name": "python3"
  },
  "language_info": {
   "codemirror_mode": {
    "name": "ipython",
    "version": 3
   },
   "file_extension": ".py",
   "mimetype": "text/x-python",
   "name": "python",
   "nbconvert_exporter": "python",
   "pygments_lexer": "ipython3",
   "version": "3.10.9"
  }
 },
 "nbformat": 4,
 "nbformat_minor": 5
}
